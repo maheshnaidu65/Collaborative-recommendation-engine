{
  "nbformat": 4,
  "nbformat_minor": 0,
  "metadata": {
    "colab": {
      "name": "colab_restaurant.ipynb",
      "version": "0.3.2",
      "provenance": [],
      "collapsed_sections": [],
      "include_colab_link": true
    },
    "kernelspec": {
      "name": "python3",
      "display_name": "Python 3"
    }
  },
  "cells": [
    {
      "cell_type": "markdown",
      "metadata": {
        "id": "view-in-github",
        "colab_type": "text"
      },
      "source": [
        "<a href=\"https://colab.research.google.com/github/maheshnaidu65/Collaborative-recommendation-engine/blob/master/colab_restaurant.ipynb\" target=\"_parent\"><img src=\"https://colab.research.google.com/assets/colab-badge.svg\" alt=\"Open In Colab\"/></a>"
      ]
    },
    {
      "cell_type": "markdown",
      "metadata": {
        "id": "xXMkYWuwwxGj",
        "colab_type": "text"
      },
      "source": [
        "### Collaborative filtering based recommendation engine\n",
        "#### This work suggests items based on the ratings given to an item by other users. \n",
        "####The idea behind this solution is that users who rated an item in a certain manner may rate another item in a similar manner, describing their preferences. \n",
        "#### This new item can be recommended to the user who liked the first item"
      ]
    },
    {
      "cell_type": "code",
      "metadata": {
        "id": "gVi_lkzzBTGx",
        "colab_type": "code",
        "colab": {}
      },
      "source": [
        "import pandas as pd\n",
        "import numpy as np\n",
        "from scipy.sparse import csr_matrix"
      ],
      "execution_count": 0,
      "outputs": []
    },
    {
      "cell_type": "code",
      "metadata": {
        "id": "r9N2RnaJBfr7",
        "colab_type": "code",
        "colab": {}
      },
      "source": [
        "#import of Dataset\n",
        "data = pd.read_csv(r'rating_final.csv')"
      ],
      "execution_count": 0,
      "outputs": []
    },
    {
      "cell_type": "code",
      "metadata": {
        "id": "MhA1vufnB2xw",
        "colab_type": "code",
        "outputId": "fc2a1045-bb00-4a4c-ee0f-3af773ad2180",
        "colab": {
          "base_uri": "https://localhost:8080/",
          "height": 202
        }
      },
      "source": [
        "data.head()"
      ],
      "execution_count": 44,
      "outputs": [
        {
          "output_type": "execute_result",
          "data": {
            "text/html": [
              "<div>\n",
              "<style scoped>\n",
              "    .dataframe tbody tr th:only-of-type {\n",
              "        vertical-align: middle;\n",
              "    }\n",
              "\n",
              "    .dataframe tbody tr th {\n",
              "        vertical-align: top;\n",
              "    }\n",
              "\n",
              "    .dataframe thead th {\n",
              "        text-align: right;\n",
              "    }\n",
              "</style>\n",
              "<table border=\"1\" class=\"dataframe\">\n",
              "  <thead>\n",
              "    <tr style=\"text-align: right;\">\n",
              "      <th></th>\n",
              "      <th>userID</th>\n",
              "      <th>placeID</th>\n",
              "      <th>rating</th>\n",
              "      <th>food_rating</th>\n",
              "      <th>service_rating</th>\n",
              "    </tr>\n",
              "  </thead>\n",
              "  <tbody>\n",
              "    <tr>\n",
              "      <th>0</th>\n",
              "      <td>U1077</td>\n",
              "      <td>135085</td>\n",
              "      <td>2</td>\n",
              "      <td>2</td>\n",
              "      <td>2</td>\n",
              "    </tr>\n",
              "    <tr>\n",
              "      <th>1</th>\n",
              "      <td>U1077</td>\n",
              "      <td>135038</td>\n",
              "      <td>2</td>\n",
              "      <td>2</td>\n",
              "      <td>1</td>\n",
              "    </tr>\n",
              "    <tr>\n",
              "      <th>2</th>\n",
              "      <td>U1077</td>\n",
              "      <td>132825</td>\n",
              "      <td>2</td>\n",
              "      <td>2</td>\n",
              "      <td>2</td>\n",
              "    </tr>\n",
              "    <tr>\n",
              "      <th>3</th>\n",
              "      <td>U1077</td>\n",
              "      <td>135060</td>\n",
              "      <td>1</td>\n",
              "      <td>2</td>\n",
              "      <td>2</td>\n",
              "    </tr>\n",
              "    <tr>\n",
              "      <th>4</th>\n",
              "      <td>U1068</td>\n",
              "      <td>135104</td>\n",
              "      <td>1</td>\n",
              "      <td>1</td>\n",
              "      <td>2</td>\n",
              "    </tr>\n",
              "  </tbody>\n",
              "</table>\n",
              "</div>"
            ],
            "text/plain": [
              "  userID  placeID  rating  food_rating  service_rating\n",
              "0  U1077   135085       2            2               2\n",
              "1  U1077   135038       2            2               1\n",
              "2  U1077   132825       2            2               2\n",
              "3  U1077   135060       1            2               2\n",
              "4  U1068   135104       1            1               2"
            ]
          },
          "metadata": {
            "tags": []
          },
          "execution_count": 44
        }
      ]
    },
    {
      "cell_type": "code",
      "metadata": {
        "id": "yympJPHC1G9F",
        "colab_type": "code",
        "colab": {}
      },
      "source": [
        ""
      ],
      "execution_count": 0,
      "outputs": []
    },
    {
      "cell_type": "markdown",
      "metadata": {
        "id": "Cf9ydoXg1O2d",
        "colab_type": "text"
      },
      "source": [
        "In this recommendation engine, I have taken food_rating values into consideration. All the three attributes could be utilized to design an efficient recommendation engine. For the purpose of modeling, I have created a matrix with the rows representing vectors containing the ratings given by each user. In case of NaN, the value of 0 is substituted. "
      ]
    },
    {
      "cell_type": "code",
      "metadata": {
        "id": "9LDYc_3CFdFm",
        "colab_type": "code",
        "colab": {}
      },
      "source": [
        "food_rating_pivot = data.pivot(index = 'placeID',columns = 'userID', values = 'food_rating').fillna(0)"
      ],
      "execution_count": 0,
      "outputs": []
    },
    {
      "cell_type": "markdown",
      "metadata": {
        "id": "PhRMBhF52uoG",
        "colab_type": "text"
      },
      "source": [
        "**Fitting a kNN model**"
      ]
    },
    {
      "cell_type": "code",
      "metadata": {
        "id": "HKAno1DpV6kx",
        "colab_type": "code",
        "colab": {
          "base_uri": "https://localhost:8080/",
          "height": 69
        },
        "outputId": "ca358525-48e4-447c-aded-4edde630a220"
      },
      "source": [
        "food_rating_pivot_matrix =csr_matrix(food_rating_pivot.values)\n",
        "\n",
        "from sklearn.neighbors import NearestNeighbors\n",
        "model_knn = NearestNeighbors(metric = 'cosine', algorithm = 'brute')\n",
        "model_knn.fit(food_rating_pivot_matrix)"
      ],
      "execution_count": 98,
      "outputs": [
        {
          "output_type": "execute_result",
          "data": {
            "text/plain": [
              "NearestNeighbors(algorithm='brute', leaf_size=30, metric='cosine',\n",
              "                 metric_params=None, n_jobs=None, n_neighbors=5, p=2,\n",
              "                 radius=1.0)"
            ]
          },
          "metadata": {
            "tags": []
          },
          "execution_count": 98
        }
      ]
    },
    {
      "cell_type": "markdown",
      "metadata": {
        "id": "uRANdHtH27ne",
        "colab_type": "text"
      },
      "source": [
        "Nearest neighbors of a randomly selected restaurant, represented by placeID, are generated in this step .The cosine values of a selected item with respect to all other items is generated. "
      ]
    },
    {
      "cell_type": "code",
      "metadata": {
        "id": "4JZ-0hWXYTeY",
        "colab_type": "code",
        "colab": {}
      },
      "source": [
        "query_index = np.random.choice(food_rating_pivot.values.shape[0])\n",
        "distances, indices  = model_knn.kneighbors([food_rating_pivot.iloc[query_index,:]], n_neighbors = 6)"
      ],
      "execution_count": 0,
      "outputs": []
    },
    {
      "cell_type": "markdown",
      "metadata": {
        "id": "jaYqgZ3i4WrG",
        "colab_type": "text"
      },
      "source": [
        "**Result**"
      ]
    },
    {
      "cell_type": "code",
      "metadata": {
        "id": "1kf55cQdYl-K",
        "colab_type": "code",
        "colab": {
          "base_uri": "https://localhost:8080/",
          "height": 139
        },
        "outputId": "4fcc3619-7b91-4a50-c444-ebfe5a6a1122"
      },
      "source": [
        "print(\"recommendations for %s are:\" % food_rating_pivot.index[query_index])\n",
        "\n",
        "for i in range(0,len(distances.flatten())):\n",
        "               print(food_rating_pivot.index[indices[0,i]])"
      ],
      "execution_count": 94,
      "outputs": [
        {
          "output_type": "stream",
          "text": [
            "recommendations for 132834 are:\n",
            "132834\n",
            "135052\n",
            "132825\n",
            "135060\n",
            "135042\n",
            "135041\n"
          ],
          "name": "stdout"
        }
      ]
    },
    {
      "cell_type": "markdown",
      "metadata": {
        "id": "DmDLzet34fz3",
        "colab_type": "text"
      },
      "source": [
        "Please note that the data is anonymized hence, the Restaurants are represented by numbers"
      ]
    }
  ]
}
